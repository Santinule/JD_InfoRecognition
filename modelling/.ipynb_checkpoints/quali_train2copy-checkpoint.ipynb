{
 "cells": [
  {
   "cell_type": "code",
   "execution_count": 2,
   "id": "e7890532",
   "metadata": {},
   "outputs": [
    {
     "data": {
      "text/html": [
       "<div>\n",
       "<style scoped>\n",
       "    .dataframe tbody tr th:only-of-type {\n",
       "        vertical-align: middle;\n",
       "    }\n",
       "\n",
       "    .dataframe tbody tr th {\n",
       "        vertical-align: top;\n",
       "    }\n",
       "\n",
       "    .dataframe thead th {\n",
       "        text-align: right;\n",
       "    }\n",
       "</style>\n",
       "<table border=\"1\" class=\"dataframe\">\n",
       "  <thead>\n",
       "    <tr style=\"text-align: right;\">\n",
       "      <th></th>\n",
       "      <th>dsm</th>\n",
       "      <th>text</th>\n",
       "      <th>previous_column_number</th>\n",
       "      <th>str_len</th>\n",
       "      <th>ksa_identifier</th>\n",
       "      <th>count</th>\n",
       "      <th>is_qualification</th>\n",
       "      <th>double</th>\n",
       "      <th>entity_encode</th>\n",
       "    </tr>\n",
       "  </thead>\n",
       "  <tbody>\n",
       "    <tr>\n",
       "      <th>0</th>\n",
       "      <td>10000900</td>\n",
       "      <td>Knowledge: Maintains familiarity with various ...</td>\n",
       "      <td>3</td>\n",
       "      <td>203</td>\n",
       "      <td>other</td>\n",
       "      <td>1</td>\n",
       "      <td>5</td>\n",
       "      <td>False</td>\n",
       "      <td>10</td>\n",
       "    </tr>\n",
       "    <tr>\n",
       "      <th>1</th>\n",
       "      <td>10000900</td>\n",
       "      <td>Skills: Medical terminology and basic computer...</td>\n",
       "      <td>4</td>\n",
       "      <td>460</td>\n",
       "      <td>Skills</td>\n",
       "      <td>2</td>\n",
       "      <td>5</td>\n",
       "      <td>False</td>\n",
       "      <td>10</td>\n",
       "    </tr>\n",
       "    <tr>\n",
       "      <th>2</th>\n",
       "      <td>10000900</td>\n",
       "      <td>Required Licensure Certification, etc.None.</td>\n",
       "      <td>5</td>\n",
       "      <td>43</td>\n",
       "      <td>Licensure</td>\n",
       "      <td>3</td>\n",
       "      <td>3</td>\n",
       "      <td>False</td>\n",
       "      <td>10</td>\n",
       "    </tr>\n",
       "    <tr>\n",
       "      <th>3</th>\n",
       "      <td>10000900</td>\n",
       "      <td>Work Experience: Requires a minimum of six mon...</td>\n",
       "      <td>6</td>\n",
       "      <td>161</td>\n",
       "      <td>Experience</td>\n",
       "      <td>4</td>\n",
       "      <td>4</td>\n",
       "      <td>False</td>\n",
       "      <td>10</td>\n",
       "    </tr>\n",
       "    <tr>\n",
       "      <th>4</th>\n",
       "      <td>10000900</td>\n",
       "      <td>Machines, Tools, Equipment: Must be able to op...</td>\n",
       "      <td>7</td>\n",
       "      <td>101</td>\n",
       "      <td>mte</td>\n",
       "      <td>5</td>\n",
       "      <td>0</td>\n",
       "      <td>False</td>\n",
       "      <td>10</td>\n",
       "    </tr>\n",
       "  </tbody>\n",
       "</table>\n",
       "</div>"
      ],
      "text/plain": [
       "        dsm                                               text  \\\n",
       "0  10000900  Knowledge: Maintains familiarity with various ...   \n",
       "1  10000900  Skills: Medical terminology and basic computer...   \n",
       "2  10000900        Required Licensure Certification, etc.None.   \n",
       "3  10000900  Work Experience: Requires a minimum of six mon...   \n",
       "4  10000900  Machines, Tools, Equipment: Must be able to op...   \n",
       "\n",
       "   previous_column_number  str_len ksa_identifier  count  is_qualification  \\\n",
       "0                       3      203          other      1                 5   \n",
       "1                       4      460         Skills      2                 5   \n",
       "2                       5       43      Licensure      3                 3   \n",
       "3                       6      161     Experience      4                 4   \n",
       "4                       7      101            mte      5                 0   \n",
       "\n",
       "   double  entity_encode  \n",
       "0   False             10  \n",
       "1   False             10  \n",
       "2   False             10  \n",
       "3   False             10  \n",
       "4   False             10  "
      ]
     },
     "execution_count": 2,
     "metadata": {},
     "output_type": "execute_result"
    }
   ],
   "source": [
    "import numpy as np\n",
    "import pandas as pd \n",
    "import spacy\n",
    "from preprocess import preprocess_text\n",
    "from spacy.lang.en.stop_words import STOP_WORDS\n",
    "\n",
    "# Load a SpaCy model\n",
    "nlp = spacy.load('en_core_web_lg')\n",
    "\n",
    "df = pd.read_csv(\"../../data/jdCleanData/isq_train_final.csv\")\n",
    "df['is_qualification'] = df['is_qualification'].replace([1, 2], 5)\n",
    "df.head()"
   ]
  },
  {
   "cell_type": "code",
   "execution_count": 3,
   "id": "b6efe6d4",
   "metadata": {},
   "outputs": [],
   "source": [
    "df[\"text\"] = df[\"text\"].apply(lambda x:preprocess_text(x, nlp))\n",
    "df[\"text2\"] = df[\"text\"].apply(lambda x:preprocess_text(x, nlp))"
   ]
  },
  {
   "cell_type": "code",
   "execution_count": 4,
   "id": "6a11622e",
   "metadata": {},
   "outputs": [
    {
     "data": {
      "text/plain": [
       "dsm                        int64\n",
       "text                      object\n",
       "previous_column_number     int64\n",
       "str_len                    int64\n",
       "ksa_identifier            object\n",
       "count                      int64\n",
       "is_qualification           int64\n",
       "double                      bool\n",
       "entity_encode              int64\n",
       "text2                     object\n",
       "dtype: object"
      ]
     },
     "execution_count": 4,
     "metadata": {},
     "output_type": "execute_result"
    }
   ],
   "source": [
    "df.dtypes"
   ]
  },
  {
   "cell_type": "code",
   "execution_count": 7,
   "id": "c2d49d8a",
   "metadata": {},
   "outputs": [
    {
     "data": {
      "text/plain": [
       "['preprocessors/quali_processor2.joblib']"
      ]
     },
     "execution_count": 7,
     "metadata": {},
     "output_type": "execute_result"
    }
   ],
   "source": [
    "from sklearn.pipeline import Pipeline\n",
    "from sklearn.feature_extraction.text import CountVectorizer, TfidfTransformer\n",
    "from sklearn.preprocessing import OneHotEncoder\n",
    "from sklearn.compose import ColumnTransformer\n",
    "from joblib import dump\n",
    "\n",
    "count_vectorizer = CountVectorizer()\n",
    "tfidf_transformer = TfidfTransformer()\n",
    "\n",
    "# Pipeline for CountVectorizer\n",
    "count_vect_pipeline = Pipeline([\n",
    "    ('countvectorizer', count_vectorizer)\n",
    "])\n",
    "\n",
    "# Pipeline for TFIDF\n",
    "tfidf_pipeline = Pipeline([\n",
    "    ('countvectorizer', count_vectorizer),\n",
    "    ('tfidf', tfidf_transformer)\n",
    "])\n",
    "\n",
    "preprocessor = ColumnTransformer(\n",
    "    transformers=[\n",
    "        ('countvectorizer', count_vect_pipeline, 'text'),\n",
    "        ('tfidf', tfidf_pipeline, 'text2'),\n",
    "        ('cat', OneHotEncoder(handle_unknown='ignore'), ['entity_encode'])\n",
    "    ],\n",
    "    remainder='passthrough'  # The 'str_len' column will be passed through without transformation\n",
    ")\n",
    "\n",
    "X = df[[\"text\", \"text2\", 'str_len', 'entity_encode']]\n",
    "y = df['is_qualification']\n",
    "\n",
    "# Fit the preprocessor on your training data and then transform it\n",
    "X_processed = preprocessor.fit_transform(X)\n",
    "\n",
    "# Now, dump the fitted preprocessor\n",
    "dump(preprocessor, 'preprocessors/quali_processor2.joblib')\n",
    "\n"
   ]
  },
  {
   "cell_type": "code",
   "execution_count": 8,
   "id": "669b7be6",
   "metadata": {},
   "outputs": [],
   "source": [
    "from sklearn.model_selection import train_test_split\n",
    "X_train, X_test, y_train, y_test = train_test_split(X_processed, y, test_size=0.3, random_state=10)"
   ]
  },
  {
   "cell_type": "code",
   "execution_count": 34,
   "id": "27799ad7",
   "metadata": {},
   "outputs": [
    {
     "data": {
      "text/html": [
       "<style>#sk-container-id-4 {color: black;background-color: white;}#sk-container-id-4 pre{padding: 0;}#sk-container-id-4 div.sk-toggleable {background-color: white;}#sk-container-id-4 label.sk-toggleable__label {cursor: pointer;display: block;width: 100%;margin-bottom: 0;padding: 0.3em;box-sizing: border-box;text-align: center;}#sk-container-id-4 label.sk-toggleable__label-arrow:before {content: \"▸\";float: left;margin-right: 0.25em;color: #696969;}#sk-container-id-4 label.sk-toggleable__label-arrow:hover:before {color: black;}#sk-container-id-4 div.sk-estimator:hover label.sk-toggleable__label-arrow:before {color: black;}#sk-container-id-4 div.sk-toggleable__content {max-height: 0;max-width: 0;overflow: hidden;text-align: left;background-color: #f0f8ff;}#sk-container-id-4 div.sk-toggleable__content pre {margin: 0.2em;color: black;border-radius: 0.25em;background-color: #f0f8ff;}#sk-container-id-4 input.sk-toggleable__control:checked~div.sk-toggleable__content {max-height: 200px;max-width: 100%;overflow: auto;}#sk-container-id-4 input.sk-toggleable__control:checked~label.sk-toggleable__label-arrow:before {content: \"▾\";}#sk-container-id-4 div.sk-estimator input.sk-toggleable__control:checked~label.sk-toggleable__label {background-color: #d4ebff;}#sk-container-id-4 div.sk-label input.sk-toggleable__control:checked~label.sk-toggleable__label {background-color: #d4ebff;}#sk-container-id-4 input.sk-hidden--visually {border: 0;clip: rect(1px 1px 1px 1px);clip: rect(1px, 1px, 1px, 1px);height: 1px;margin: -1px;overflow: hidden;padding: 0;position: absolute;width: 1px;}#sk-container-id-4 div.sk-estimator {font-family: monospace;background-color: #f0f8ff;border: 1px dotted black;border-radius: 0.25em;box-sizing: border-box;margin-bottom: 0.5em;}#sk-container-id-4 div.sk-estimator:hover {background-color: #d4ebff;}#sk-container-id-4 div.sk-parallel-item::after {content: \"\";width: 100%;border-bottom: 1px solid gray;flex-grow: 1;}#sk-container-id-4 div.sk-label:hover label.sk-toggleable__label {background-color: #d4ebff;}#sk-container-id-4 div.sk-serial::before {content: \"\";position: absolute;border-left: 1px solid gray;box-sizing: border-box;top: 0;bottom: 0;left: 50%;z-index: 0;}#sk-container-id-4 div.sk-serial {display: flex;flex-direction: column;align-items: center;background-color: white;padding-right: 0.2em;padding-left: 0.2em;position: relative;}#sk-container-id-4 div.sk-item {position: relative;z-index: 1;}#sk-container-id-4 div.sk-parallel {display: flex;align-items: stretch;justify-content: center;background-color: white;position: relative;}#sk-container-id-4 div.sk-item::before, #sk-container-id-4 div.sk-parallel-item::before {content: \"\";position: absolute;border-left: 1px solid gray;box-sizing: border-box;top: 0;bottom: 0;left: 50%;z-index: -1;}#sk-container-id-4 div.sk-parallel-item {display: flex;flex-direction: column;z-index: 1;position: relative;background-color: white;}#sk-container-id-4 div.sk-parallel-item:first-child::after {align-self: flex-end;width: 50%;}#sk-container-id-4 div.sk-parallel-item:last-child::after {align-self: flex-start;width: 50%;}#sk-container-id-4 div.sk-parallel-item:only-child::after {width: 0;}#sk-container-id-4 div.sk-dashed-wrapped {border: 1px dashed gray;margin: 0 0.4em 0.5em 0.4em;box-sizing: border-box;padding-bottom: 0.4em;background-color: white;}#sk-container-id-4 div.sk-label label {font-family: monospace;font-weight: bold;display: inline-block;line-height: 1.2em;}#sk-container-id-4 div.sk-label-container {text-align: center;}#sk-container-id-4 div.sk-container {/* jupyter's `normalize.less` sets `[hidden] { display: none; }` but bootstrap.min.css set `[hidden] { display: none !important; }` so we also need the `!important` here to be able to override the default hidden behavior on the sphinx rendered scikit-learn.org. See: https://github.com/scikit-learn/scikit-learn/issues/21755 */display: inline-block !important;position: relative;}#sk-container-id-4 div.sk-text-repr-fallback {display: none;}</style><div id=\"sk-container-id-4\" class=\"sk-top-container\"><div class=\"sk-text-repr-fallback\"><pre>GridSearchCV(cv=5,\n",
       "             estimator=SelfTrainingClassifier(base_estimator=RandomForestClassifier(class_weight={0: 1,\n",
       "                                                                                                  3: 5,\n",
       "                                                                                                  4: 5,\n",
       "                                                                                                  5: 2},\n",
       "                                                                                    random_state=42),\n",
       "                                              criterion=&#x27;k_best&#x27;),\n",
       "             n_jobs=-1,\n",
       "             param_grid={&#x27;base_estimator__max_depth&#x27;: [200, 300, None],\n",
       "                         &#x27;base_estimator__min_samples_leaf&#x27;: [1, 2, 4],\n",
       "                         &#x27;base_estimator__min_samples_split&#x27;: [2, 5, 10],\n",
       "                         &#x27;base_estimator__n_estimators&#x27;: [50, 100, 200]})</pre><b>In a Jupyter environment, please rerun this cell to show the HTML representation or trust the notebook. <br />On GitHub, the HTML representation is unable to render, please try loading this page with nbviewer.org.</b></div><div class=\"sk-container\" hidden><div class=\"sk-item sk-dashed-wrapped\"><div class=\"sk-label-container\"><div class=\"sk-label sk-toggleable\"><input class=\"sk-toggleable__control sk-hidden--visually\" id=\"sk-estimator-id-11\" type=\"checkbox\" ><label for=\"sk-estimator-id-11\" class=\"sk-toggleable__label sk-toggleable__label-arrow\">GridSearchCV</label><div class=\"sk-toggleable__content\"><pre>GridSearchCV(cv=5,\n",
       "             estimator=SelfTrainingClassifier(base_estimator=RandomForestClassifier(class_weight={0: 1,\n",
       "                                                                                                  3: 5,\n",
       "                                                                                                  4: 5,\n",
       "                                                                                                  5: 2},\n",
       "                                                                                    random_state=42),\n",
       "                                              criterion=&#x27;k_best&#x27;),\n",
       "             n_jobs=-1,\n",
       "             param_grid={&#x27;base_estimator__max_depth&#x27;: [200, 300, None],\n",
       "                         &#x27;base_estimator__min_samples_leaf&#x27;: [1, 2, 4],\n",
       "                         &#x27;base_estimator__min_samples_split&#x27;: [2, 5, 10],\n",
       "                         &#x27;base_estimator__n_estimators&#x27;: [50, 100, 200]})</pre></div></div></div><div class=\"sk-parallel\"><div class=\"sk-parallel-item\"><div class=\"sk-item\"><div class=\"sk-label-container\"><div class=\"sk-label sk-toggleable\"><input class=\"sk-toggleable__control sk-hidden--visually\" id=\"sk-estimator-id-12\" type=\"checkbox\" ><label for=\"sk-estimator-id-12\" class=\"sk-toggleable__label sk-toggleable__label-arrow\">estimator: SelfTrainingClassifier</label><div class=\"sk-toggleable__content\"><pre>SelfTrainingClassifier(base_estimator=RandomForestClassifier(class_weight={0: 1,\n",
       "                                                                           3: 5,\n",
       "                                                                           4: 5,\n",
       "                                                                           5: 2},\n",
       "                                                             random_state=42),\n",
       "                       criterion=&#x27;k_best&#x27;)</pre></div></div></div><div class=\"sk-serial\"><div class=\"sk-item sk-dashed-wrapped\"><div class=\"sk-parallel\"><div class=\"sk-parallel-item\"><div class=\"sk-item\"><div class=\"sk-label-container\"><div class=\"sk-label sk-toggleable\"><input class=\"sk-toggleable__control sk-hidden--visually\" id=\"sk-estimator-id-13\" type=\"checkbox\" ><label for=\"sk-estimator-id-13\" class=\"sk-toggleable__label sk-toggleable__label-arrow\">base_estimator: RandomForestClassifier</label><div class=\"sk-toggleable__content\"><pre>RandomForestClassifier(class_weight={0: 1, 3: 5, 4: 5, 5: 2}, random_state=42)</pre></div></div></div><div class=\"sk-serial\"><div class=\"sk-item\"><div class=\"sk-estimator sk-toggleable\"><input class=\"sk-toggleable__control sk-hidden--visually\" id=\"sk-estimator-id-14\" type=\"checkbox\" ><label for=\"sk-estimator-id-14\" class=\"sk-toggleable__label sk-toggleable__label-arrow\">RandomForestClassifier</label><div class=\"sk-toggleable__content\"><pre>RandomForestClassifier(class_weight={0: 1, 3: 5, 4: 5, 5: 2}, random_state=42)</pre></div></div></div></div></div></div></div></div></div></div></div></div></div></div></div>"
      ],
      "text/plain": [
       "GridSearchCV(cv=5,\n",
       "             estimator=SelfTrainingClassifier(base_estimator=RandomForestClassifier(class_weight={0: 1,\n",
       "                                                                                                  3: 5,\n",
       "                                                                                                  4: 5,\n",
       "                                                                                                  5: 2},\n",
       "                                                                                    random_state=42),\n",
       "                                              criterion='k_best'),\n",
       "             n_jobs=-1,\n",
       "             param_grid={'base_estimator__max_depth': [200, 300, None],\n",
       "                         'base_estimator__min_samples_leaf': [1, 2, 4],\n",
       "                         'base_estimator__min_samples_split': [2, 5, 10],\n",
       "                         'base_estimator__n_estimators': [50, 100, 200]})"
      ]
     },
     "execution_count": 34,
     "metadata": {},
     "output_type": "execute_result"
    }
   ],
   "source": [
    "from sklearn.ensemble import RandomForestClassifier\n",
    "from sklearn.model_selection import GridSearchCV\n",
    "from sklearn.semi_supervised import SelfTrainingClassifier\n",
    "\n",
    "# Given class weights\n",
    "class_weight = {0: 1, 3: 5, 4:5, 5:2}\n",
    "\n",
    "base_classifier = RandomForestClassifier(class_weight=class_weight, random_state=42)\n",
    "\n",
    "self_training_model = SelfTrainingClassifier(base_classifier, criterion='k_best', k_best=10, max_iter=10)\n",
    "\n",
    "# Hyperparameter tuning using grid search with cross-validation\n",
    "\n",
    "\n",
    "param_grid = {\n",
    "    'base_estimator__n_estimators': [50, 100, 200],\n",
    "    'base_estimator__max_depth': [200, 300, None],\n",
    "    'base_estimator__min_samples_split': [2, 5, 10],\n",
    "    'base_estimator__min_samples_leaf': [1, 2, 4]\n",
    "}\n",
    "\n",
    "\n",
    "grid_search = GridSearchCV(self_training_model, param_grid, cv=5, n_jobs=-1)\n",
    "grid_search.fit(X_train, y_train)\n"
   ]
  },
  {
   "cell_type": "code",
   "execution_count": 35,
   "id": "ffb105ad",
   "metadata": {},
   "outputs": [
    {
     "name": "stdout",
     "output_type": "stream",
     "text": [
      "Best hyperparameters:\n",
      "base_estimator__max_depth: 300\n",
      "base_estimator__min_samples_leaf: 1\n",
      "base_estimator__min_samples_split: 2\n",
      "base_estimator__n_estimators: 50\n"
     ]
    }
   ],
   "source": [
    "best_params = grid_search.best_params_\n",
    "print(\"Best hyperparameters:\")\n",
    "for param_name, param_value in best_params.items():\n",
    "    print(f\"{param_name}: {param_value}\")\n"
   ]
  },
  {
   "cell_type": "code",
   "execution_count": 10,
   "id": "10a24042",
   "metadata": {},
   "outputs": [],
   "source": [
    "# Training the model with the best hyperparameters\n",
    "from sklearn.ensemble import RandomForestClassifier\n",
    "from sklearn.model_selection import GridSearchCV\n",
    "from sklearn.semi_supervised import SelfTrainingClassifier\n",
    "eval_base_classifier =RandomForestClassifier(\n",
    "        n_estimators=50,\n",
    "        max_depth=300,\n",
    "        min_samples_split=2,\n",
    "        min_samples_leaf=1\n",
    "    )\n",
    "model_for_eval = SelfTrainingClassifier(eval_base_classifier, criterion='k_best', k_best=10, max_iter=10\n",
    "    \n",
    ")\n",
    "\n",
    "# model_for_eval.fit(X_train, y_train)"
   ]
  },
  {
   "cell_type": "code",
   "execution_count": 37,
   "id": "b8162d2e",
   "metadata": {
    "scrolled": true
   },
   "outputs": [
    {
     "name": "stdout",
     "output_type": "stream",
     "text": [
      "Accuracy: 0.689659039928219 \n",
      "\n",
      "              precision    recall  f1-score   support\n",
      "\n",
      "          -1       0.00      0.00      0.00      2552\n",
      "           0       0.72      0.99      0.83      5129\n",
      "           3       0.94      0.97      0.95       129\n",
      "           4       0.54      0.97      0.70        91\n",
      "           5       0.55      0.83      0.66      1015\n",
      "\n",
      "    accuracy                           0.69      8916\n",
      "   macro avg       0.55      0.75      0.63      8916\n",
      "weighted avg       0.49      0.69      0.58      8916\n",
      " \n",
      "\n",
      "Confusion Matrix:\n",
      "[[   0 1847    2   54  649]\n",
      " [   0 5097    3    0   29]\n",
      " [   0    2  125    0    2]\n",
      " [   0    1    0   88    2]\n",
      " [   0  153    3   20  839]]\n"
     ]
    },
    {
     "name": "stderr",
     "output_type": "stream",
     "text": [
      "/Users/santinule/Library/Python/3.9/lib/python/site-packages/sklearn/metrics/_classification.py:1334: UndefinedMetricWarning: Precision and F-score are ill-defined and being set to 0.0 in labels with no predicted samples. Use `zero_division` parameter to control this behavior.\n",
      "  _warn_prf(average, modifier, msg_start, len(result))\n",
      "/Users/santinule/Library/Python/3.9/lib/python/site-packages/sklearn/metrics/_classification.py:1334: UndefinedMetricWarning: Precision and F-score are ill-defined and being set to 0.0 in labels with no predicted samples. Use `zero_division` parameter to control this behavior.\n",
      "  _warn_prf(average, modifier, msg_start, len(result))\n",
      "/Users/santinule/Library/Python/3.9/lib/python/site-packages/sklearn/metrics/_classification.py:1334: UndefinedMetricWarning: Precision and F-score are ill-defined and being set to 0.0 in labels with no predicted samples. Use `zero_division` parameter to control this behavior.\n",
      "  _warn_prf(average, modifier, msg_start, len(result))\n"
     ]
    }
   ],
   "source": [
    "# Predicting with the model\n",
    "\n",
    "y_pred = model_for_eval.predict(X_test)\n",
    "\n",
    "\n",
    "from sklearn.metrics import classification_report, accuracy_score, confusion_matrix\n",
    "print(\"Accuracy:\", accuracy_score(y_test, y_pred), \"\\n\")\n",
    "print(classification_report(y_test, y_pred), \"\\n\")\n",
    "print(\"Confusion Matrix:\")\n",
    "print(confusion_matrix(y_test, y_pred))"
   ]
  },
  {
   "cell_type": "code",
   "execution_count": 12,
   "id": "318f9c7f",
   "metadata": {},
   "outputs": [],
   "source": [
    "#Use all data to train model\n",
    "best_model_quali = model_for_eval.fit(X_processed, y)"
   ]
  },
  {
   "cell_type": "code",
   "execution_count": 14,
   "id": "6a56e7c1",
   "metadata": {},
   "outputs": [
    {
     "data": {
      "text/plain": [
       "['../../joblib/best_model_quali.joblib']"
      ]
     },
     "execution_count": 14,
     "metadata": {},
     "output_type": "execute_result"
    }
   ],
   "source": [
    "from joblib import dump\n",
    "\n",
    "# Save the model using joblib\n",
    "dump(best_model_quali, '../../joblib/best_model_quali.joblib')"
   ]
  }
 ],
 "metadata": {
  "kernelspec": {
   "display_name": "Python 3 (ipykernel)",
   "language": "python",
   "name": "python3"
  },
  "language_info": {
   "codemirror_mode": {
    "name": "ipython",
    "version": 3
   },
   "file_extension": ".py",
   "mimetype": "text/x-python",
   "name": "python",
   "nbconvert_exporter": "python",
   "pygments_lexer": "ipython3",
   "version": "3.9.6"
  }
 },
 "nbformat": 4,
 "nbformat_minor": 5
}
