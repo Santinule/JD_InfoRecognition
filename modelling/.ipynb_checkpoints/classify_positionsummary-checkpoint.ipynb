{
 "cells": [
  {
   "cell_type": "code",
   "execution_count": 1,
   "id": "bd9f40a5",
   "metadata": {},
   "outputs": [],
   "source": [
    "import pandas as pd\n",
    "import numpy as np \n",
    "import spacy\n",
    "from spacy.lang.en.stop_words import STOP_WORDS\n",
    "from preprocess import preprocess_text \n",
    "df=pd.read_csv(\"../../data/final_df/ps_final_df2.csv\")\n",
    "nlp = spacy.load('en_core_web_lg')"
   ]
  },
  {
   "cell_type": "code",
   "execution_count": 9,
   "id": "b0adfab1",
   "metadata": {
    "collapsed": true
   },
   "outputs": [
    {
     "data": {
      "text/html": [
       "<div>\n",
       "<style scoped>\n",
       "    .dataframe tbody tr th:only-of-type {\n",
       "        vertical-align: middle;\n",
       "    }\n",
       "\n",
       "    .dataframe tbody tr th {\n",
       "        vertical-align: top;\n",
       "    }\n",
       "\n",
       "    .dataframe thead th {\n",
       "        text-align: right;\n",
       "    }\n",
       "</style>\n",
       "<table border=\"1\" class=\"dataframe\">\n",
       "  <thead>\n",
       "    <tr style=\"text-align: right;\">\n",
       "      <th></th>\n",
       "      <th>dsm</th>\n",
       "      <th>text</th>\n",
       "      <th>previous_column_number</th>\n",
       "      <th>str_len</th>\n",
       "      <th>entity_encode</th>\n",
       "      <th>lag_text</th>\n",
       "      <th>lag_text2</th>\n",
       "      <th>lag_text3</th>\n",
       "      <th>lag_text4</th>\n",
       "      <th>text_original</th>\n",
       "      <th>text_parsed</th>\n",
       "    </tr>\n",
       "  </thead>\n",
       "  <tbody>\n",
       "    <tr>\n",
       "      <th>0</th>\n",
       "      <td>10000400</td>\n",
       "      <td>word</td>\n",
       "      <td>2</td>\n",
       "      <td>4</td>\n",
       "      <td>10</td>\n",
       "      <td>line</td>\n",
       "      <td>second line</td>\n",
       "      <td>line</td>\n",
       "      <td>fourth line</td>\n",
       "      <td>word</td>\n",
       "      <td>word</td>\n",
       "    </tr>\n",
       "    <tr>\n",
       "      <th>1</th>\n",
       "      <td>10000400</td>\n",
       "      <td></td>\n",
       "      <td>3</td>\n",
       "      <td>10</td>\n",
       "      <td>10</td>\n",
       "      <td>word</td>\n",
       "      <td>line</td>\n",
       "      <td>second line</td>\n",
       "      <td>third line</td>\n",
       "      <td>1342121940</td>\n",
       "      <td>1342121940</td>\n",
       "    </tr>\n",
       "    <tr>\n",
       "      <th>2</th>\n",
       "      <td>10000400</td>\n",
       "      <td>position Summary</td>\n",
       "      <td>6</td>\n",
       "      <td>17</td>\n",
       "      <td>10</td>\n",
       "      <td></td>\n",
       "      <td>word</td>\n",
       "      <td>line</td>\n",
       "      <td>second line</td>\n",
       "      <td>Position Summary:</td>\n",
       "      <td>Position Summary :</td>\n",
       "    </tr>\n",
       "    <tr>\n",
       "      <th>3</th>\n",
       "      <td>10000400</td>\n",
       "      <td>VP Chief Financial Officer Johns Hopkins Inter...</td>\n",
       "      <td>7</td>\n",
       "      <td>557</td>\n",
       "      <td>10</td>\n",
       "      <td>position Summary</td>\n",
       "      <td></td>\n",
       "      <td>word</td>\n",
       "      <td>first line</td>\n",
       "      <td>The VP/Chief Financial Officer for Johns Hopki...</td>\n",
       "      <td>The VP / Chief Financial Officer for Johns Hop...</td>\n",
       "    </tr>\n",
       "    <tr>\n",
       "      <th>4</th>\n",
       "      <td>10000400</td>\n",
       "      <td>development oversight review budget long term ...</td>\n",
       "      <td>8</td>\n",
       "      <td>118</td>\n",
       "      <td>10</td>\n",
       "      <td>VP Chief Financial Officer Johns Hopkins Inter...</td>\n",
       "      <td>position Summary</td>\n",
       "      <td></td>\n",
       "      <td>word</td>\n",
       "      <td>Development, oversight and review of the budge...</td>\n",
       "      <td>Development , oversight and review of the budg...</td>\n",
       "    </tr>\n",
       "  </tbody>\n",
       "</table>\n",
       "</div>"
      ],
      "text/plain": [
       "        dsm                                               text  \\\n",
       "0  10000400                                               word   \n",
       "1  10000400                                                      \n",
       "2  10000400                                   position Summary   \n",
       "3  10000400  VP Chief Financial Officer Johns Hopkins Inter...   \n",
       "4  10000400  development oversight review budget long term ...   \n",
       "\n",
       "   previous_column_number  str_len  entity_encode  \\\n",
       "0                       2        4             10   \n",
       "1                       3       10             10   \n",
       "2                       6       17             10   \n",
       "3                       7      557             10   \n",
       "4                       8      118             10   \n",
       "\n",
       "                                            lag_text         lag_text2  \\\n",
       "0                                               line       second line   \n",
       "1                                               word              line   \n",
       "2                                                                 word   \n",
       "3                                   position Summary                     \n",
       "4  VP Chief Financial Officer Johns Hopkins Inter...  position Summary   \n",
       "\n",
       "     lag_text3    lag_text4  \\\n",
       "0         line  fourth line   \n",
       "1  second line   third line   \n",
       "2         line  second line   \n",
       "3         word   first line   \n",
       "4                      word   \n",
       "\n",
       "                                       text_original  \\\n",
       "0                                               word   \n",
       "1                                         1342121940   \n",
       "2                                  Position Summary:   \n",
       "3  The VP/Chief Financial Officer for Johns Hopki...   \n",
       "4  Development, oversight and review of the budge...   \n",
       "\n",
       "                                         text_parsed  \n",
       "0                                               word  \n",
       "1                                         1342121940  \n",
       "2                                 Position Summary :  \n",
       "3  The VP / Chief Financial Officer for Johns Hop...  \n",
       "4  Development , oversight and review of the budg...  "
      ]
     },
     "execution_count": 9,
     "metadata": {},
     "output_type": "execute_result"
    }
   ],
   "source": [
    "#Parse the text column using spacy\n",
    "df['text_original'] = df['text']\n",
    "df['text_parsed'] = df['text'].apply(nlp)\n",
    "df['text_parsed'] = df['text_parsed'].apply(lambda doc: ' '.join([token.text for token in doc]))#unlist/unspacy\n",
    "\n",
    "\n",
    "\n",
    "columns_to_preprocess = ['text', 'lag_text', 'lag_text2', 'lag_text3']\n",
    "\n",
    "for column in columns_to_preprocess:\n",
    "    df[column] = df[column].apply(lambda x:preprocess_text(x, nlp))\n",
    "\n",
    "    \n"
   ]
  },
  {
   "cell_type": "code",
   "execution_count": 13,
   "id": "5b1fbf64",
   "metadata": {},
   "outputs": [
    {
     "name": "stdout",
     "output_type": "stream",
     "text": [
      "dsm                        int64\n",
      "text                      object\n",
      "previous_column_number     int64\n",
      "str_len                    int64\n",
      "entity_encode              int64\n",
      "lag_text                  object\n",
      "lag_text2                 object\n",
      "lag_text3                 object\n",
      "lag_text4                 object\n",
      "text_original             object\n",
      "text_parsed               object\n",
      "dtype: object\n"
     ]
    }
   ],
   "source": [
    "print(df.dtypes)\n",
    "# Convert 'entity_encode' to object\n",
    "df['entity_encode'] = df['entity_encode'].astype(str)"
   ]
  },
  {
   "cell_type": "code",
   "execution_count": 14,
   "id": "883fc5aa",
   "metadata": {},
   "outputs": [],
   "source": [
    "X = df[[\"text\", 'str_len', \"lag_text\", 'lag_text2', 'lag_text3',  'entity_encode']]\n",
    "\n",
    "from joblib import load\n",
    "ps_preprocessor = load('preprocessors/ps_processor.joblib')\n",
    "\n",
    "matrix_x = ps_preprocessor.transform(X)"
   ]
  },
  {
   "cell_type": "code",
   "execution_count": 2,
   "id": "f0d50276",
   "metadata": {},
   "outputs": [
    {
     "ename": "NameError",
     "evalue": "name 'ps_preprocessor' is not defined",
     "output_type": "error",
     "traceback": [
      "\u001b[0;31m---------------------------------------------------------------------------\u001b[0m",
      "\u001b[0;31mNameError\u001b[0m                                 Traceback (most recent call last)",
      "Cell \u001b[0;32mIn [2], line 1\u001b[0m\n\u001b[0;32m----> 1\u001b[0m matrix_x \u001b[38;5;241m=\u001b[39m \u001b[43mps_preprocessor\u001b[49m\u001b[38;5;241m.\u001b[39mtransform(X)\n\u001b[1;32m      2\u001b[0m \u001b[38;5;28;01mfrom\u001b[39;00m \u001b[38;5;21;01mjoblib\u001b[39;00m \u001b[38;5;28;01mimport\u001b[39;00m load\n\u001b[1;32m      4\u001b[0m \u001b[38;5;66;03m# Load the saved model\u001b[39;00m\n",
      "\u001b[0;31mNameError\u001b[0m: name 'ps_preprocessor' is not defined"
     ]
    }
   ],
   "source": [
    "# Load the saved model\n",
    "ps_model = load('../../joblib/self_training_model_robust_ps.joblib')"
   ]
  },
  {
   "cell_type": "code",
   "execution_count": 19,
   "id": "4c637445",
   "metadata": {},
   "outputs": [
    {
     "data": {
      "text/html": [
       "<style>#sk-container-id-2 {color: black;background-color: white;}#sk-container-id-2 pre{padding: 0;}#sk-container-id-2 div.sk-toggleable {background-color: white;}#sk-container-id-2 label.sk-toggleable__label {cursor: pointer;display: block;width: 100%;margin-bottom: 0;padding: 0.3em;box-sizing: border-box;text-align: center;}#sk-container-id-2 label.sk-toggleable__label-arrow:before {content: \"▸\";float: left;margin-right: 0.25em;color: #696969;}#sk-container-id-2 label.sk-toggleable__label-arrow:hover:before {color: black;}#sk-container-id-2 div.sk-estimator:hover label.sk-toggleable__label-arrow:before {color: black;}#sk-container-id-2 div.sk-toggleable__content {max-height: 0;max-width: 0;overflow: hidden;text-align: left;background-color: #f0f8ff;}#sk-container-id-2 div.sk-toggleable__content pre {margin: 0.2em;color: black;border-radius: 0.25em;background-color: #f0f8ff;}#sk-container-id-2 input.sk-toggleable__control:checked~div.sk-toggleable__content {max-height: 200px;max-width: 100%;overflow: auto;}#sk-container-id-2 input.sk-toggleable__control:checked~label.sk-toggleable__label-arrow:before {content: \"▾\";}#sk-container-id-2 div.sk-estimator input.sk-toggleable__control:checked~label.sk-toggleable__label {background-color: #d4ebff;}#sk-container-id-2 div.sk-label input.sk-toggleable__control:checked~label.sk-toggleable__label {background-color: #d4ebff;}#sk-container-id-2 input.sk-hidden--visually {border: 0;clip: rect(1px 1px 1px 1px);clip: rect(1px, 1px, 1px, 1px);height: 1px;margin: -1px;overflow: hidden;padding: 0;position: absolute;width: 1px;}#sk-container-id-2 div.sk-estimator {font-family: monospace;background-color: #f0f8ff;border: 1px dotted black;border-radius: 0.25em;box-sizing: border-box;margin-bottom: 0.5em;}#sk-container-id-2 div.sk-estimator:hover {background-color: #d4ebff;}#sk-container-id-2 div.sk-parallel-item::after {content: \"\";width: 100%;border-bottom: 1px solid gray;flex-grow: 1;}#sk-container-id-2 div.sk-label:hover label.sk-toggleable__label {background-color: #d4ebff;}#sk-container-id-2 div.sk-serial::before {content: \"\";position: absolute;border-left: 1px solid gray;box-sizing: border-box;top: 0;bottom: 0;left: 50%;z-index: 0;}#sk-container-id-2 div.sk-serial {display: flex;flex-direction: column;align-items: center;background-color: white;padding-right: 0.2em;padding-left: 0.2em;position: relative;}#sk-container-id-2 div.sk-item {position: relative;z-index: 1;}#sk-container-id-2 div.sk-parallel {display: flex;align-items: stretch;justify-content: center;background-color: white;position: relative;}#sk-container-id-2 div.sk-item::before, #sk-container-id-2 div.sk-parallel-item::before {content: \"\";position: absolute;border-left: 1px solid gray;box-sizing: border-box;top: 0;bottom: 0;left: 50%;z-index: -1;}#sk-container-id-2 div.sk-parallel-item {display: flex;flex-direction: column;z-index: 1;position: relative;background-color: white;}#sk-container-id-2 div.sk-parallel-item:first-child::after {align-self: flex-end;width: 50%;}#sk-container-id-2 div.sk-parallel-item:last-child::after {align-self: flex-start;width: 50%;}#sk-container-id-2 div.sk-parallel-item:only-child::after {width: 0;}#sk-container-id-2 div.sk-dashed-wrapped {border: 1px dashed gray;margin: 0 0.4em 0.5em 0.4em;box-sizing: border-box;padding-bottom: 0.4em;background-color: white;}#sk-container-id-2 div.sk-label label {font-family: monospace;font-weight: bold;display: inline-block;line-height: 1.2em;}#sk-container-id-2 div.sk-label-container {text-align: center;}#sk-container-id-2 div.sk-container {/* jupyter's `normalize.less` sets `[hidden] { display: none; }` but bootstrap.min.css set `[hidden] { display: none !important; }` so we also need the `!important` here to be able to override the default hidden behavior on the sphinx rendered scikit-learn.org. See: https://github.com/scikit-learn/scikit-learn/issues/21755 */display: inline-block !important;position: relative;}#sk-container-id-2 div.sk-text-repr-fallback {display: none;}</style><div id=\"sk-container-id-2\" class=\"sk-top-container\"><div class=\"sk-text-repr-fallback\"><pre>SelfTrainingClassifier(base_estimator=SVC(C=100, class_weight={0: 1, 1: 4},\n",
       "                                          gamma=0.001, probability=True))</pre><b>In a Jupyter environment, please rerun this cell to show the HTML representation or trust the notebook. <br />On GitHub, the HTML representation is unable to render, please try loading this page with nbviewer.org.</b></div><div class=\"sk-container\" hidden><div class=\"sk-item sk-dashed-wrapped\"><div class=\"sk-label-container\"><div class=\"sk-label sk-toggleable\"><input class=\"sk-toggleable__control sk-hidden--visually\" id=\"sk-estimator-id-4\" type=\"checkbox\" ><label for=\"sk-estimator-id-4\" class=\"sk-toggleable__label sk-toggleable__label-arrow\">SelfTrainingClassifier</label><div class=\"sk-toggleable__content\"><pre>SelfTrainingClassifier(base_estimator=SVC(C=100, class_weight={0: 1, 1: 4},\n",
       "                                          gamma=0.001, probability=True))</pre></div></div></div><div class=\"sk-parallel\"><div class=\"sk-parallel-item\"><div class=\"sk-item\"><div class=\"sk-label-container\"><div class=\"sk-label sk-toggleable\"><input class=\"sk-toggleable__control sk-hidden--visually\" id=\"sk-estimator-id-5\" type=\"checkbox\" ><label for=\"sk-estimator-id-5\" class=\"sk-toggleable__label sk-toggleable__label-arrow\">base_estimator: SVC</label><div class=\"sk-toggleable__content\"><pre>SVC(C=100, class_weight={0: 1, 1: 4}, gamma=0.001, probability=True)</pre></div></div></div><div class=\"sk-serial\"><div class=\"sk-item\"><div class=\"sk-estimator sk-toggleable\"><input class=\"sk-toggleable__control sk-hidden--visually\" id=\"sk-estimator-id-6\" type=\"checkbox\" ><label for=\"sk-estimator-id-6\" class=\"sk-toggleable__label sk-toggleable__label-arrow\">SVC</label><div class=\"sk-toggleable__content\"><pre>SVC(C=100, class_weight={0: 1, 1: 4}, gamma=0.001, probability=True)</pre></div></div></div></div></div></div></div></div></div></div>"
      ],
      "text/plain": [
       "SelfTrainingClassifier(base_estimator=SVC(C=100, class_weight={0: 1, 1: 4},\n",
       "                                          gamma=0.001, probability=True))"
      ]
     },
     "execution_count": 19,
     "metadata": {},
     "output_type": "execute_result"
    }
   ],
   "source": [
    "ps_model"
   ]
  },
  {
   "cell_type": "code",
   "execution_count": 20,
   "id": "a3acedc6",
   "metadata": {},
   "outputs": [],
   "source": [
    "predictions = ps_model.predict(matrix_x)\n",
    "df['predictions'] = predictions"
   ]
  },
  {
   "cell_type": "code",
   "execution_count": 24,
   "id": "315af13f",
   "metadata": {},
   "outputs": [],
   "source": [
    "# Get the probabilities of the positive class\n",
    "# probabilities = ps_model.predict_proba(matrix_x)[:, 1]\n",
    "probabilities = ps_model.predict_proba(matrix_x)\n",
    "for i, class_name in enumerate(ps_model.classes_):\n",
    "    df[f'model1_probability_class_{class_name}'] = probabilities[:, i]"
   ]
  },
  {
   "cell_type": "code",
   "execution_count": 28,
   "id": "795f8b3a",
   "metadata": {},
   "outputs": [],
   "source": [
    "df.head(n=20)\n",
    "df.to_csv('../../data/final_df/ps_classified.csv', index=False)"
   ]
  },
  {
   "cell_type": "code",
   "execution_count": null,
   "id": "d0fa7728",
   "metadata": {},
   "outputs": [],
   "source": []
  }
 ],
 "metadata": {
  "kernelspec": {
   "display_name": "Python 3 (ipykernel)",
   "language": "python",
   "name": "python3"
  },
  "language_info": {
   "codemirror_mode": {
    "name": "ipython",
    "version": 3
   },
   "file_extension": ".py",
   "mimetype": "text/x-python",
   "name": "python",
   "nbconvert_exporter": "python",
   "pygments_lexer": "ipython3",
   "version": "3.9.6"
  }
 },
 "nbformat": 4,
 "nbformat_minor": 5
}
