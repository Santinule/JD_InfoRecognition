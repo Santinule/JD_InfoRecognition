{
 "cells": [
  {
   "cell_type": "code",
   "execution_count": 8,
   "id": "1db6d590",
   "metadata": {},
   "outputs": [
    {
     "data": {
      "text/html": [
       "<div>\n",
       "<style scoped>\n",
       "    .dataframe tbody tr th:only-of-type {\n",
       "        vertical-align: middle;\n",
       "    }\n",
       "\n",
       "    .dataframe tbody tr th {\n",
       "        vertical-align: top;\n",
       "    }\n",
       "\n",
       "    .dataframe thead th {\n",
       "        text-align: right;\n",
       "    }\n",
       "</style>\n",
       "<table border=\"1\" class=\"dataframe\">\n",
       "  <thead>\n",
       "    <tr style=\"text-align: right;\">\n",
       "      <th></th>\n",
       "      <th>dsm</th>\n",
       "      <th>text</th>\n",
       "      <th>previous_column_number</th>\n",
       "      <th>str_len</th>\n",
       "      <th>entity_encode</th>\n",
       "      <th>lag_text</th>\n",
       "      <th>lag_text2</th>\n",
       "      <th>lead_text</th>\n",
       "      <th>lead_text2</th>\n",
       "    </tr>\n",
       "  </thead>\n",
       "  <tbody>\n",
       "    <tr>\n",
       "      <th>0</th>\n",
       "      <td>10000400</td>\n",
       "      <td>Position Summary:</td>\n",
       "      <td>3</td>\n",
       "      <td>17</td>\n",
       "      <td>10</td>\n",
       "      <td>line one</td>\n",
       "      <td>line two</td>\n",
       "      <td>The VP/Chief Financial Officer for Johns Hopki...</td>\n",
       "      <td>Development, oversight and review of the budge...</td>\n",
       "    </tr>\n",
       "    <tr>\n",
       "      <th>1</th>\n",
       "      <td>10000400</td>\n",
       "      <td>The VP/Chief Financial Officer for Johns Hopki...</td>\n",
       "      <td>4</td>\n",
       "      <td>557</td>\n",
       "      <td>10</td>\n",
       "      <td>Position Summary:</td>\n",
       "      <td>line one</td>\n",
       "      <td>Development, oversight and review of the budge...</td>\n",
       "      <td>Internal and external financial analysis and r...</td>\n",
       "    </tr>\n",
       "    <tr>\n",
       "      <th>2</th>\n",
       "      <td>10000400</td>\n",
       "      <td>Development, oversight and review of the budge...</td>\n",
       "      <td>5</td>\n",
       "      <td>118</td>\n",
       "      <td>10</td>\n",
       "      <td>The VP/Chief Financial Officer for Johns Hopki...</td>\n",
       "      <td>Position Summary:</td>\n",
       "      <td>Internal and external financial analysis and r...</td>\n",
       "      <td>Production and maintenance of the monthly fina...</td>\n",
       "    </tr>\n",
       "    <tr>\n",
       "      <th>3</th>\n",
       "      <td>10000400</td>\n",
       "      <td>Internal and external financial analysis and r...</td>\n",
       "      <td>6</td>\n",
       "      <td>55</td>\n",
       "      <td>10</td>\n",
       "      <td>Development, oversight and review of the budge...</td>\n",
       "      <td>The VP/Chief Financial Officer for Johns Hopki...</td>\n",
       "      <td>Production and maintenance of the monthly fina...</td>\n",
       "      <td>Support the financial operations of JHI’s fore...</td>\n",
       "    </tr>\n",
       "    <tr>\n",
       "      <th>4</th>\n",
       "      <td>10000400</td>\n",
       "      <td>Production and maintenance of the monthly fina...</td>\n",
       "      <td>7</td>\n",
       "      <td>94</td>\n",
       "      <td>10</td>\n",
       "      <td>Internal and external financial analysis and r...</td>\n",
       "      <td>Development, oversight and review of the budge...</td>\n",
       "      <td>Support the financial operations of JHI’s fore...</td>\n",
       "      <td>New and existing project / program / product d...</td>\n",
       "    </tr>\n",
       "  </tbody>\n",
       "</table>\n",
       "</div>"
      ],
      "text/plain": [
       "        dsm                                               text  \\\n",
       "0  10000400                                  Position Summary:   \n",
       "1  10000400  The VP/Chief Financial Officer for Johns Hopki...   \n",
       "2  10000400  Development, oversight and review of the budge...   \n",
       "3  10000400  Internal and external financial analysis and r...   \n",
       "4  10000400  Production and maintenance of the monthly fina...   \n",
       "\n",
       "   previous_column_number  str_len  entity_encode  \\\n",
       "0                       3       17             10   \n",
       "1                       4      557             10   \n",
       "2                       5      118             10   \n",
       "3                       6       55             10   \n",
       "4                       7       94             10   \n",
       "\n",
       "                                            lag_text  \\\n",
       "0                                           line one   \n",
       "1                                  Position Summary:   \n",
       "2  The VP/Chief Financial Officer for Johns Hopki...   \n",
       "3  Development, oversight and review of the budge...   \n",
       "4  Internal and external financial analysis and r...   \n",
       "\n",
       "                                           lag_text2  \\\n",
       "0                                           line two   \n",
       "1                                           line one   \n",
       "2                                  Position Summary:   \n",
       "3  The VP/Chief Financial Officer for Johns Hopki...   \n",
       "4  Development, oversight and review of the budge...   \n",
       "\n",
       "                                           lead_text  \\\n",
       "0  The VP/Chief Financial Officer for Johns Hopki...   \n",
       "1  Development, oversight and review of the budge...   \n",
       "2  Internal and external financial analysis and r...   \n",
       "3  Production and maintenance of the monthly fina...   \n",
       "4  Support the financial operations of JHI’s fore...   \n",
       "\n",
       "                                          lead_text2  \n",
       "0  Development, oversight and review of the budge...  \n",
       "1  Internal and external financial analysis and r...  \n",
       "2  Production and maintenance of the monthly fina...  \n",
       "3  Support the financial operations of JHI’s fore...  \n",
       "4  New and existing project / program / product d...  "
      ]
     },
     "execution_count": 8,
     "metadata": {},
     "output_type": "execute_result"
    }
   ],
   "source": [
    "import pandas as pd\n",
    "import numpy as np \n",
    "import spacy\n",
    "from spacy.lang.en.stop_words import STOP_WORDS\n",
    "from preprocess import preprocess_text \n",
    "df=pd.read_csv(\"../../data/final_df/ps_final_df2.csv\")\n",
    "nlp = spacy.load('en_core_web_lg')\n",
    "df.head()\n",
    "df2=pd.read_csv(\"../../data/final_df/ps_final2_lead.csv\")\n",
    "df2.head()"
   ]
  },
  {
   "cell_type": "code",
   "execution_count": 9,
   "id": "94e5e4b5",
   "metadata": {},
   "outputs": [
    {
     "name": "stdout",
     "output_type": "stream",
     "text": [
      "dsm                        int64\n",
      "text                      object\n",
      "previous_column_number     int64\n",
      "str_len                    int64\n",
      "entity_encode              int64\n",
      "lag_text                  object\n",
      "lag_text2                 object\n",
      "lead_text                 object\n",
      "lead_text2                object\n",
      "text_original             object\n",
      "text_parsed               object\n",
      "dtype: object\n"
     ]
    }
   ],
   "source": [
    "#Parse the text column using spacy\n",
    "df2['text_original'] = df2['text']\n",
    "df2['text_parsed'] = df2['text'].apply(nlp)\n",
    "df2['text_parsed'] = df2['text_parsed'].apply(lambda doc: ' '.join([token.text for token in doc]))#unlist/unspacy\n",
    "\n",
    "\n",
    "\n",
    "# Apply the function to the 'previous_line' column\n",
    "columns_to_preprocess = ['text', 'lag_text','lag_text2', 'lead_text', 'lead_text2']\n",
    "\n",
    "\n",
    "\n",
    "for column in columns_to_preprocess:\n",
    "    df2[column] = df2[column].apply(lambda x:preprocess_text(x, nlp))\n",
    "\n",
    "print(df2.dtypes)"
   ]
  },
  {
   "cell_type": "code",
   "execution_count": 11,
   "id": "411b5278",
   "metadata": {},
   "outputs": [],
   "source": [
    "# Convert 'entity_encode' to object\n",
    "X = df2[[\"text\", 'previous_column_number', 'str_len',\n",
    "        \"lag_text\", 'lag_text2',\n",
    "        'lead_text','lead_text2',\n",
    "        'entity_encode']]\n",
    "\n",
    "df2['entity_encode'] = df2['entity_encode'].astype(str)"
   ]
  },
  {
   "cell_type": "code",
   "execution_count": 15,
   "id": "ec3e7764",
   "metadata": {},
   "outputs": [],
   "source": [
    "from joblib import load\n",
    "ps_preprocessor2 = load('preprocessors/ps_processor.joblib')\n",
    "\n",
    "matrix_x = ps_preprocessor2.transform(X)"
   ]
  },
  {
   "cell_type": "code",
   "execution_count": 19,
   "id": "2ed2578f",
   "metadata": {},
   "outputs": [],
   "source": [
    "ps_model2 = load('../../joblib/best_model_ps2.joblib')\n",
    "predictions2 = ps_model2.predict(matrix_x)\n",
    "df2['predictions_model2'] = predictions2"
   ]
  },
  {
   "cell_type": "code",
   "execution_count": 20,
   "id": "38e0f312",
   "metadata": {},
   "outputs": [],
   "source": [
    "# Get the probabilities of the positive class\n",
    "# probabilities = ps_model.predict_proba(matrix_x)[:, 1]\n",
    "probabilities = ps_model2.predict_proba(matrix_x)\n",
    "for i, class_name in enumerate(ps_model2.classes_):\n",
    "    df2[f'model2_probability_class_{class_name}'] = probabilities[:, i]"
   ]
  },
  {
   "cell_type": "code",
   "execution_count": 23,
   "id": "fbdaed1b",
   "metadata": {},
   "outputs": [],
   "source": [
    "df2.to_csv('../../data/final_df/ps_classified2.csv', index=False)"
   ]
  },
  {
   "cell_type": "code",
   "execution_count": null,
   "id": "611b5144",
   "metadata": {},
   "outputs": [],
   "source": []
  },
  {
   "cell_type": "code",
   "execution_count": 28,
   "id": "6c21d690",
   "metadata": {},
   "outputs": [],
   "source": [
    "ps_model3 = load('../../joblib/ps_svc_linear_final.joblib')\n",
    "from joblib import load\n",
    "ps_preprocessor3 = load('preprocessors/ps3_pipeline_with_tsvd.joblib')\n",
    "\n",
    "matrix_x = ps_preprocessor3.transform(X)\n",
    "predictions3 = ps_model3.predict(matrix_x)\n",
    "df2['predictions_model3'] = predictions3"
   ]
  },
  {
   "cell_type": "code",
   "execution_count": 29,
   "id": "341c7cc6",
   "metadata": {},
   "outputs": [],
   "source": [
    "# Get the probabilities of the positive class\n",
    "# probabilities = ps_model.predict_proba(matrix_x)[:, 1]\n",
    "probabilities = ps_model3.predict_proba(matrix_x)\n",
    "for i, class_name in enumerate(ps_model3.classes_):\n",
    "    df2[f'model3_probability_class_{class_name}'] = probabilities[:, i]"
   ]
  },
  {
   "cell_type": "code",
   "execution_count": 31,
   "id": "74bc4ea5",
   "metadata": {},
   "outputs": [],
   "source": [
    "df2.to_csv('../../data/final_df/ps_classified3.csv', index=False)"
   ]
  }
 ],
 "metadata": {
  "kernelspec": {
   "display_name": "Python 3 (ipykernel)",
   "language": "python",
   "name": "python3"
  },
  "language_info": {
   "codemirror_mode": {
    "name": "ipython",
    "version": 3
   },
   "file_extension": ".py",
   "mimetype": "text/x-python",
   "name": "python",
   "nbconvert_exporter": "python",
   "pygments_lexer": "ipython3",
   "version": "3.9.6"
  }
 },
 "nbformat": 4,
 "nbformat_minor": 5
}
