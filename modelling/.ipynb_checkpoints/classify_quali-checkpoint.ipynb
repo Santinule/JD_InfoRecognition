{
 "cells": [
  {
   "cell_type": "code",
   "execution_count": 2,
   "id": "14955814",
   "metadata": {},
   "outputs": [
    {
     "data": {
      "text/html": [
       "<div>\n",
       "<style scoped>\n",
       "    .dataframe tbody tr th:only-of-type {\n",
       "        vertical-align: middle;\n",
       "    }\n",
       "\n",
       "    .dataframe tbody tr th {\n",
       "        vertical-align: top;\n",
       "    }\n",
       "\n",
       "    .dataframe thead th {\n",
       "        text-align: right;\n",
       "    }\n",
       "</style>\n",
       "<table border=\"1\" class=\"dataframe\">\n",
       "  <thead>\n",
       "    <tr style=\"text-align: right;\">\n",
       "      <th></th>\n",
       "      <th>dsm</th>\n",
       "      <th>text</th>\n",
       "      <th>previous_column_number</th>\n",
       "      <th>str_len</th>\n",
       "      <th>entity_encode</th>\n",
       "      <th>lag_text</th>\n",
       "      <th>lag_text2</th>\n",
       "      <th>lag_text3</th>\n",
       "      <th>lag_text4</th>\n",
       "    </tr>\n",
       "  </thead>\n",
       "  <tbody>\n",
       "    <tr>\n",
       "      <th>0</th>\n",
       "      <td>10000400</td>\n",
       "      <td>B.Knowledge:</td>\n",
       "      <td>3</td>\n",
       "      <td>12</td>\n",
       "      <td>10</td>\n",
       "      <td>first line</td>\n",
       "      <td>second line</td>\n",
       "      <td>third line</td>\n",
       "      <td>fourth line</td>\n",
       "    </tr>\n",
       "    <tr>\n",
       "      <th>1</th>\n",
       "      <td>10000400</td>\n",
       "      <td>Masters Degree in Accounting, Finance, Busines...</td>\n",
       "      <td>4</td>\n",
       "      <td>101</td>\n",
       "      <td>10</td>\n",
       "      <td>B.Knowledge:</td>\n",
       "      <td>first line</td>\n",
       "      <td>second line</td>\n",
       "      <td>third line</td>\n",
       "    </tr>\n",
       "    <tr>\n",
       "      <th>2</th>\n",
       "      <td>10000400</td>\n",
       "      <td>Extensive knowledge of corporate finance as it...</td>\n",
       "      <td>5</td>\n",
       "      <td>426</td>\n",
       "      <td>10</td>\n",
       "      <td>Masters Degree in Accounting, Finance, Busines...</td>\n",
       "      <td>B.Knowledge:</td>\n",
       "      <td>first line</td>\n",
       "      <td>second line</td>\n",
       "    </tr>\n",
       "    <tr>\n",
       "      <th>3</th>\n",
       "      <td>10000400</td>\n",
       "      <td>C.Skills:</td>\n",
       "      <td>6</td>\n",
       "      <td>9</td>\n",
       "      <td>10</td>\n",
       "      <td>Extensive knowledge of corporate finance as it...</td>\n",
       "      <td>Masters Degree in Accounting, Finance, Busines...</td>\n",
       "      <td>B.Knowledge:</td>\n",
       "      <td>first line</td>\n",
       "    </tr>\n",
       "    <tr>\n",
       "      <th>4</th>\n",
       "      <td>10000400</td>\n",
       "      <td>D.Required Licensure, Certification, Etc.Requi...</td>\n",
       "      <td>7</td>\n",
       "      <td>81</td>\n",
       "      <td>10</td>\n",
       "      <td>C.Skills:</td>\n",
       "      <td>Extensive knowledge of corporate finance as it...</td>\n",
       "      <td>Masters Degree in Accounting, Finance, Busines...</td>\n",
       "      <td>B.Knowledge:</td>\n",
       "    </tr>\n",
       "  </tbody>\n",
       "</table>\n",
       "</div>"
      ],
      "text/plain": [
       "        dsm                                               text  \\\n",
       "0  10000400                                       B.Knowledge:   \n",
       "1  10000400  Masters Degree in Accounting, Finance, Busines...   \n",
       "2  10000400  Extensive knowledge of corporate finance as it...   \n",
       "3  10000400                                          C.Skills:   \n",
       "4  10000400  D.Required Licensure, Certification, Etc.Requi...   \n",
       "\n",
       "   previous_column_number  str_len  entity_encode  \\\n",
       "0                       3       12             10   \n",
       "1                       4      101             10   \n",
       "2                       5      426             10   \n",
       "3                       6        9             10   \n",
       "4                       7       81             10   \n",
       "\n",
       "                                            lag_text  \\\n",
       "0                                         first line   \n",
       "1                                       B.Knowledge:   \n",
       "2  Masters Degree in Accounting, Finance, Busines...   \n",
       "3  Extensive knowledge of corporate finance as it...   \n",
       "4                                          C.Skills:   \n",
       "\n",
       "                                           lag_text2  \\\n",
       "0                                        second line   \n",
       "1                                         first line   \n",
       "2                                       B.Knowledge:   \n",
       "3  Masters Degree in Accounting, Finance, Busines...   \n",
       "4  Extensive knowledge of corporate finance as it...   \n",
       "\n",
       "                                           lag_text3     lag_text4  \n",
       "0                                         third line   fourth line  \n",
       "1                                        second line    third line  \n",
       "2                                         first line   second line  \n",
       "3                                       B.Knowledge:    first line  \n",
       "4  Masters Degree in Accounting, Finance, Busines...  B.Knowledge:  "
      ]
     },
     "execution_count": 2,
     "metadata": {},
     "output_type": "execute_result"
    }
   ],
   "source": [
    "import pandas as pd\n",
    "import numpy as np \n",
    "import spacy\n",
    "from spacy.lang.en.stop_words import STOP_WORDS\n",
    "from preprocess import preprocess_text \n",
    "nlp = spacy.load('en_core_web_lg')\n",
    "df=pd.read_csv(\"../../data/final_df/quali_final_df2.csv\")\n",
    "df.head()"
   ]
  },
  {
   "cell_type": "code",
   "execution_count": 3,
   "id": "0bbcaaa2",
   "metadata": {},
   "outputs": [],
   "source": [
    "df[\"text_original\"] = df[\"text\"]\n",
    "df[\"text\"] = df[\"text\"].apply(lambda x:preprocess_text(x, nlp))\n",
    "df[\"text2\"] = df[\"text\"].apply(lambda x:preprocess_text(x, nlp))"
   ]
  },
  {
   "cell_type": "code",
   "execution_count": 24,
   "id": "4763720a",
   "metadata": {},
   "outputs": [
    {
     "data": {
      "text/plain": [
       "dsm                        int64\n",
       "text                      object\n",
       "previous_column_number     int64\n",
       "str_len                    int64\n",
       "entity_encode              int64\n",
       "lag_text                  object\n",
       "lag_text2                 object\n",
       "lag_text3                 object\n",
       "lag_text4                 object\n",
       "text_original             object\n",
       "text2                     object\n",
       "dtype: object"
      ]
     },
     "execution_count": 24,
     "metadata": {},
     "output_type": "execute_result"
    }
   ],
   "source": [
    "df.dtypes"
   ]
  },
  {
   "cell_type": "code",
   "execution_count": 25,
   "id": "d3c28890",
   "metadata": {},
   "outputs": [],
   "source": [
    "from sklearn.pipeline import Pipeline\n",
    "from sklearn.feature_extraction.text import CountVectorizer\n",
    "from joblib import load\n",
    "\n",
    "preprocessor = load( 'preprocessors/quali_processor2.joblib')\n",
    "\n",
    "X = df[[\"text\", \"text2\", 'str_len', 'entity_encode']]\n",
    "\n",
    "X_processed = preprocessor.transform(X)"
   ]
  },
  {
   "cell_type": "code",
   "execution_count": 26,
   "id": "16580f03",
   "metadata": {},
   "outputs": [],
   "source": [
    "quali_model = load('../../joblib/best_model_quali.joblib')\n",
    "\n",
    "\n",
    "predictions = quali_model.predict(X_processed)\n",
    "df['predictions_model2'] = predictions"
   ]
  },
  {
   "cell_type": "code",
   "execution_count": 28,
   "id": "19104702",
   "metadata": {},
   "outputs": [],
   "source": [
    "probabilities = quali_model.predict_proba(X_processed)\n",
    "for i, class_name in enumerate(quali_model.classes_):\n",
    "    df[f'quali_model_probability_class_{class_name}'] = probabilities[:, i]"
   ]
  },
  {
   "cell_type": "code",
   "execution_count": 29,
   "id": "ffc17094",
   "metadata": {},
   "outputs": [],
   "source": [
    "# df.to_csv('../../data/final_df/quali_classified2.csv', index=False)"
   ]
  }
 ],
 "metadata": {
  "kernelspec": {
   "display_name": "Python 3 (ipykernel)",
   "language": "python",
   "name": "python3"
  },
  "language_info": {
   "codemirror_mode": {
    "name": "ipython",
    "version": 3
   },
   "file_extension": ".py",
   "mimetype": "text/x-python",
   "name": "python",
   "nbconvert_exporter": "python",
   "pygments_lexer": "ipython3",
   "version": "3.9.6"
  }
 },
 "nbformat": 4,
 "nbformat_minor": 5
}
