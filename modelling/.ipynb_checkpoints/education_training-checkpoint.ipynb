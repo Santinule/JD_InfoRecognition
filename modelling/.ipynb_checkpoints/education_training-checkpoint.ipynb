{
 "cells": [
  {
   "cell_type": "code",
   "execution_count": 1,
   "id": "1bbcf1a1",
   "metadata": {},
   "outputs": [],
   "source": [
    "import pandas as pd\n",
    "import numpy as np\n",
    "import spacy\n",
    "from spacy.lang.en.stop_words import STOP_WORDS"
   ]
  },
  {
   "cell_type": "code",
   "execution_count": 2,
   "id": "7f3b7d88",
   "metadata": {
    "scrolled": true
   },
   "outputs": [
    {
     "data": {
      "text/html": [
       "<div>\n",
       "<style scoped>\n",
       "    .dataframe tbody tr th:only-of-type {\n",
       "        vertical-align: middle;\n",
       "    }\n",
       "\n",
       "    .dataframe tbody tr th {\n",
       "        vertical-align: top;\n",
       "    }\n",
       "\n",
       "    .dataframe thead th {\n",
       "        text-align: right;\n",
       "    }\n",
       "</style>\n",
       "<table border=\"1\" class=\"dataframe\">\n",
       "  <thead>\n",
       "    <tr style=\"text-align: right;\">\n",
       "      <th></th>\n",
       "      <th>dsm</th>\n",
       "      <th>text</th>\n",
       "      <th>previous_column_number</th>\n",
       "      <th>str_len</th>\n",
       "      <th>is_education</th>\n",
       "      <th>ed_count</th>\n",
       "      <th>max_ed_count</th>\n",
       "      <th>entity_encode</th>\n",
       "      <th>lag_text</th>\n",
       "      <th>lag_text2</th>\n",
       "      <th>lag_text3</th>\n",
       "    </tr>\n",
       "  </thead>\n",
       "  <tbody>\n",
       "    <tr>\n",
       "      <th>0</th>\n",
       "      <td>11432511</td>\n",
       "      <td>Education:Minimum of a high school diploma or ...</td>\n",
       "      <td>2</td>\n",
       "      <td>59</td>\n",
       "      <td>True</td>\n",
       "      <td>1</td>\n",
       "      <td>1</td>\n",
       "      <td>11</td>\n",
       "      <td>first line</td>\n",
       "      <td>second line</td>\n",
       "      <td>third line</td>\n",
       "    </tr>\n",
       "    <tr>\n",
       "      <th>1</th>\n",
       "      <td>11432511</td>\n",
       "      <td>Knowledge, Skills, and Abilities: Applicant mu...</td>\n",
       "      <td>3</td>\n",
       "      <td>1474</td>\n",
       "      <td>False</td>\n",
       "      <td>1</td>\n",
       "      <td>1</td>\n",
       "      <td>11</td>\n",
       "      <td>Education:Minimum of a high school diploma or ...</td>\n",
       "      <td>first line</td>\n",
       "      <td>second line</td>\n",
       "    </tr>\n",
       "    <tr>\n",
       "      <th>2</th>\n",
       "      <td>11432511</td>\n",
       "      <td>Required Licensure, Certification, On-going Tr...</td>\n",
       "      <td>4</td>\n",
       "      <td>237</td>\n",
       "      <td>False</td>\n",
       "      <td>1</td>\n",
       "      <td>1</td>\n",
       "      <td>11</td>\n",
       "      <td>Knowledge, Skills, and Abilities: Applicant mu...</td>\n",
       "      <td>Education:Minimum of a high school diploma or ...</td>\n",
       "      <td>first line</td>\n",
       "    </tr>\n",
       "    <tr>\n",
       "      <th>3</th>\n",
       "      <td>11432511</td>\n",
       "      <td>Work Experience: Minimum of one year’s experie...</td>\n",
       "      <td>5</td>\n",
       "      <td>78</td>\n",
       "      <td>False</td>\n",
       "      <td>1</td>\n",
       "      <td>1</td>\n",
       "      <td>11</td>\n",
       "      <td>Required Licensure, Certification, On-going Tr...</td>\n",
       "      <td>Knowledge, Skills, and Abilities: Applicant mu...</td>\n",
       "      <td>Education:Minimum of a high school diploma or ...</td>\n",
       "    </tr>\n",
       "    <tr>\n",
       "      <th>4</th>\n",
       "      <td>11432511</td>\n",
       "      <td>Machines, Tools, Equipment: Requires use of mu...</td>\n",
       "      <td>6</td>\n",
       "      <td>126</td>\n",
       "      <td>False</td>\n",
       "      <td>1</td>\n",
       "      <td>1</td>\n",
       "      <td>11</td>\n",
       "      <td>Work Experience: Minimum of one year’s experie...</td>\n",
       "      <td>Required Licensure, Certification, On-going Tr...</td>\n",
       "      <td>Knowledge, Skills, and Abilities: Applicant mu...</td>\n",
       "    </tr>\n",
       "  </tbody>\n",
       "</table>\n",
       "</div>"
      ],
      "text/plain": [
       "        dsm                                               text  \\\n",
       "0  11432511  Education:Minimum of a high school diploma or ...   \n",
       "1  11432511  Knowledge, Skills, and Abilities: Applicant mu...   \n",
       "2  11432511  Required Licensure, Certification, On-going Tr...   \n",
       "3  11432511  Work Experience: Minimum of one year’s experie...   \n",
       "4  11432511  Machines, Tools, Equipment: Requires use of mu...   \n",
       "\n",
       "   previous_column_number  str_len  is_education  ed_count  max_ed_count  \\\n",
       "0                       2       59          True         1             1   \n",
       "1                       3     1474         False         1             1   \n",
       "2                       4      237         False         1             1   \n",
       "3                       5       78         False         1             1   \n",
       "4                       6      126         False         1             1   \n",
       "\n",
       "  entity_encode                                           lag_text  \\\n",
       "0            11                                         first line   \n",
       "1            11  Education:Minimum of a high school diploma or ...   \n",
       "2            11  Knowledge, Skills, and Abilities: Applicant mu...   \n",
       "3            11  Required Licensure, Certification, On-going Tr...   \n",
       "4            11  Work Experience: Minimum of one year’s experie...   \n",
       "\n",
       "                                           lag_text2  \\\n",
       "0                                        second line   \n",
       "1                                         first line   \n",
       "2  Education:Minimum of a high school diploma or ...   \n",
       "3  Knowledge, Skills, and Abilities: Applicant mu...   \n",
       "4  Required Licensure, Certification, On-going Tr...   \n",
       "\n",
       "                                           lag_text3  \n",
       "0                                         third line  \n",
       "1                                        second line  \n",
       "2                                         first line  \n",
       "3  Education:Minimum of a high school diploma or ...  \n",
       "4  Knowledge, Skills, and Abilities: Applicant mu...  "
      ]
     },
     "execution_count": 2,
     "metadata": {},
     "output_type": "execute_result"
    }
   ],
   "source": [
    "nlp = spacy.load(\"en_core_web_lg\")\n",
    "df = pd.read_csv(\"../../data/jdCleanData/edut_df.csv\")\n",
    "df.head()"
   ]
  },
  {
   "cell_type": "code",
   "execution_count": 3,
   "id": "829be975",
   "metadata": {},
   "outputs": [],
   "source": [
    "# Define a function to preprocess text\n",
    "\n",
    "def preprocess_text(text):\n",
    "    # Create a Doc object\n",
    "    doc = nlp(text, disable=['ner', 'parser'])\n",
    "    # Generate lemmas\n",
    "    lemmas = [token.lemma_ for token in doc]\n",
    "    # Remove stopwords and non-alphabetic characters\n",
    "    a_lemmas = [lemma for lemma in lemmas if lemma.isalpha() and lemma not in STOP_WORDS]\n",
    "    \n",
    "    return ' '.join(a_lemmas)"
   ]
  },
  {
   "cell_type": "code",
   "execution_count": 4,
   "id": "b02bbea7",
   "metadata": {},
   "outputs": [],
   "source": [
    "columns_to_preprocess = ['text', \"lag_text\",'lag_text2', 'lag_text3']\n",
    "\n",
    "for column in columns_to_preprocess:\n",
    "    df[column] = df[column].apply(preprocess_text)\n"
   ]
  },
  {
   "cell_type": "code",
   "execution_count": 70,
   "id": "ba7068e8",
   "metadata": {},
   "outputs": [
    {
     "name": "stdout",
     "output_type": "stream",
     "text": [
      "dsm                       object\n",
      "text                      object\n",
      "previous_column_number     int64\n",
      "str_len                    int64\n",
      "is_education                bool\n",
      "ed_count                   int64\n",
      "max_ed_count               int64\n",
      "entity_encode             object\n",
      "lag_text                  object\n",
      "lag_text2                 object\n",
      "lag_text3                 object\n",
      "dtype: object\n"
     ]
    }
   ],
   "source": [
    "from sklearn.feature_extraction.text import CountVectorizer\n",
    "from sklearn.preprocessing import StandardScaler, OneHotEncoder\n",
    "from sklearn.compose import ColumnTransformer\n",
    "\n",
    "\n",
    "# Define preprocessor\n",
    "preprocessor = ColumnTransformer(\n",
    "    transformers=[\n",
    "        ('text', CountVectorizer(), 'text'),\n",
    "        ('lag_text', CountVectorizer(), 'lag_text'),\n",
    "        ('lag_text2', CountVectorizer(), 'lag_text2'),\n",
    "        ('lag_text3', CountVectorizer(), 'lag_text3'),\n",
    "        ('num', StandardScaler(with_mean=False), ['str_len']),\n",
    "        ('cat', OneHotEncoder(handle_unknown='ignore'), ['entity_encode'])\n",
    "    ]\n",
    ")\n",
    "\n",
    "\n",
    "\n",
    "X = df[[\"text\", 'str_len', \"lag_text\", 'lag_text2', 'lag_text3',  'entity_encode']]\n",
    "y = df['is_education']\n",
    "\n",
    "# Fit and transform the data\n",
    "X = preprocessor.fit_transform(X)\n",
    "\n",
    "print(df.dtypes)\n"
   ]
  },
  {
   "cell_type": "code",
   "execution_count": 71,
   "id": "abd83ce9",
   "metadata": {},
   "outputs": [
    {
     "data": {
      "text/plain": [
       "['path_to_save_preprocessor.joblib']"
      ]
     },
     "execution_count": 71,
     "metadata": {},
     "output_type": "execute_result"
    }
   ],
   "source": [
    "from joblib import dump\n",
    "dump(preprocessor, 'path_to_save_preprocessor.joblib')\n"
   ]
  },
  {
   "cell_type": "code",
   "execution_count": 62,
   "id": "77da5ae2",
   "metadata": {},
   "outputs": [],
   "source": [
    "from sklearn.model_selection import train_test_split\n",
    "X_train, X_test, y_train, y_test = train_test_split(X, y, test_size=0.33, random_state=2)"
   ]
  },
  {
   "cell_type": "code",
   "execution_count": 14,
   "id": "56bc069e",
   "metadata": {
    "scrolled": true
   },
   "outputs": [
    {
     "name": "stdout",
     "output_type": "stream",
     "text": [
      "Fitting 5 folds for each of 216 candidates, totalling 1080 fits\n"
     ]
    },
    {
     "data": {
      "text/html": [
       "<style>#sk-container-id-1 {color: black;background-color: white;}#sk-container-id-1 pre{padding: 0;}#sk-container-id-1 div.sk-toggleable {background-color: white;}#sk-container-id-1 label.sk-toggleable__label {cursor: pointer;display: block;width: 100%;margin-bottom: 0;padding: 0.3em;box-sizing: border-box;text-align: center;}#sk-container-id-1 label.sk-toggleable__label-arrow:before {content: \"▸\";float: left;margin-right: 0.25em;color: #696969;}#sk-container-id-1 label.sk-toggleable__label-arrow:hover:before {color: black;}#sk-container-id-1 div.sk-estimator:hover label.sk-toggleable__label-arrow:before {color: black;}#sk-container-id-1 div.sk-toggleable__content {max-height: 0;max-width: 0;overflow: hidden;text-align: left;background-color: #f0f8ff;}#sk-container-id-1 div.sk-toggleable__content pre {margin: 0.2em;color: black;border-radius: 0.25em;background-color: #f0f8ff;}#sk-container-id-1 input.sk-toggleable__control:checked~div.sk-toggleable__content {max-height: 200px;max-width: 100%;overflow: auto;}#sk-container-id-1 input.sk-toggleable__control:checked~label.sk-toggleable__label-arrow:before {content: \"▾\";}#sk-container-id-1 div.sk-estimator input.sk-toggleable__control:checked~label.sk-toggleable__label {background-color: #d4ebff;}#sk-container-id-1 div.sk-label input.sk-toggleable__control:checked~label.sk-toggleable__label {background-color: #d4ebff;}#sk-container-id-1 input.sk-hidden--visually {border: 0;clip: rect(1px 1px 1px 1px);clip: rect(1px, 1px, 1px, 1px);height: 1px;margin: -1px;overflow: hidden;padding: 0;position: absolute;width: 1px;}#sk-container-id-1 div.sk-estimator {font-family: monospace;background-color: #f0f8ff;border: 1px dotted black;border-radius: 0.25em;box-sizing: border-box;margin-bottom: 0.5em;}#sk-container-id-1 div.sk-estimator:hover {background-color: #d4ebff;}#sk-container-id-1 div.sk-parallel-item::after {content: \"\";width: 100%;border-bottom: 1px solid gray;flex-grow: 1;}#sk-container-id-1 div.sk-label:hover label.sk-toggleable__label {background-color: #d4ebff;}#sk-container-id-1 div.sk-serial::before {content: \"\";position: absolute;border-left: 1px solid gray;box-sizing: border-box;top: 0;bottom: 0;left: 50%;z-index: 0;}#sk-container-id-1 div.sk-serial {display: flex;flex-direction: column;align-items: center;background-color: white;padding-right: 0.2em;padding-left: 0.2em;position: relative;}#sk-container-id-1 div.sk-item {position: relative;z-index: 1;}#sk-container-id-1 div.sk-parallel {display: flex;align-items: stretch;justify-content: center;background-color: white;position: relative;}#sk-container-id-1 div.sk-item::before, #sk-container-id-1 div.sk-parallel-item::before {content: \"\";position: absolute;border-left: 1px solid gray;box-sizing: border-box;top: 0;bottom: 0;left: 50%;z-index: -1;}#sk-container-id-1 div.sk-parallel-item {display: flex;flex-direction: column;z-index: 1;position: relative;background-color: white;}#sk-container-id-1 div.sk-parallel-item:first-child::after {align-self: flex-end;width: 50%;}#sk-container-id-1 div.sk-parallel-item:last-child::after {align-self: flex-start;width: 50%;}#sk-container-id-1 div.sk-parallel-item:only-child::after {width: 0;}#sk-container-id-1 div.sk-dashed-wrapped {border: 1px dashed gray;margin: 0 0.4em 0.5em 0.4em;box-sizing: border-box;padding-bottom: 0.4em;background-color: white;}#sk-container-id-1 div.sk-label label {font-family: monospace;font-weight: bold;display: inline-block;line-height: 1.2em;}#sk-container-id-1 div.sk-label-container {text-align: center;}#sk-container-id-1 div.sk-container {/* jupyter's `normalize.less` sets `[hidden] { display: none; }` but bootstrap.min.css set `[hidden] { display: none !important; }` so we also need the `!important` here to be able to override the default hidden behavior on the sphinx rendered scikit-learn.org. See: https://github.com/scikit-learn/scikit-learn/issues/21755 */display: inline-block !important;position: relative;}#sk-container-id-1 div.sk-text-repr-fallback {display: none;}</style><div id=\"sk-container-id-1\" class=\"sk-top-container\"><div class=\"sk-text-repr-fallback\"><pre>GridSearchCV(cv=5, estimator=RandomForestClassifier(), n_jobs=-1,\n",
       "             param_grid={&#x27;bootstrap&#x27;: [True, False],\n",
       "                         &#x27;max_depth&#x27;: [None, 10, 20, 30],\n",
       "                         &#x27;min_samples_leaf&#x27;: [1, 2, 4],\n",
       "                         &#x27;min_samples_split&#x27;: [2, 5, 10],\n",
       "                         &#x27;n_estimators&#x27;: [50, 100, 150]},\n",
       "             verbose=2)</pre><b>In a Jupyter environment, please rerun this cell to show the HTML representation or trust the notebook. <br />On GitHub, the HTML representation is unable to render, please try loading this page with nbviewer.org.</b></div><div class=\"sk-container\" hidden><div class=\"sk-item sk-dashed-wrapped\"><div class=\"sk-label-container\"><div class=\"sk-label sk-toggleable\"><input class=\"sk-toggleable__control sk-hidden--visually\" id=\"sk-estimator-id-1\" type=\"checkbox\" ><label for=\"sk-estimator-id-1\" class=\"sk-toggleable__label sk-toggleable__label-arrow\">GridSearchCV</label><div class=\"sk-toggleable__content\"><pre>GridSearchCV(cv=5, estimator=RandomForestClassifier(), n_jobs=-1,\n",
       "             param_grid={&#x27;bootstrap&#x27;: [True, False],\n",
       "                         &#x27;max_depth&#x27;: [None, 10, 20, 30],\n",
       "                         &#x27;min_samples_leaf&#x27;: [1, 2, 4],\n",
       "                         &#x27;min_samples_split&#x27;: [2, 5, 10],\n",
       "                         &#x27;n_estimators&#x27;: [50, 100, 150]},\n",
       "             verbose=2)</pre></div></div></div><div class=\"sk-parallel\"><div class=\"sk-parallel-item\"><div class=\"sk-item\"><div class=\"sk-label-container\"><div class=\"sk-label sk-toggleable\"><input class=\"sk-toggleable__control sk-hidden--visually\" id=\"sk-estimator-id-2\" type=\"checkbox\" ><label for=\"sk-estimator-id-2\" class=\"sk-toggleable__label sk-toggleable__label-arrow\">estimator: RandomForestClassifier</label><div class=\"sk-toggleable__content\"><pre>RandomForestClassifier()</pre></div></div></div><div class=\"sk-serial\"><div class=\"sk-item\"><div class=\"sk-estimator sk-toggleable\"><input class=\"sk-toggleable__control sk-hidden--visually\" id=\"sk-estimator-id-3\" type=\"checkbox\" ><label for=\"sk-estimator-id-3\" class=\"sk-toggleable__label sk-toggleable__label-arrow\">RandomForestClassifier</label><div class=\"sk-toggleable__content\"><pre>RandomForestClassifier()</pre></div></div></div></div></div></div></div></div></div></div>"
      ],
      "text/plain": [
       "GridSearchCV(cv=5, estimator=RandomForestClassifier(), n_jobs=-1,\n",
       "             param_grid={'bootstrap': [True, False],\n",
       "                         'max_depth': [None, 10, 20, 30],\n",
       "                         'min_samples_leaf': [1, 2, 4],\n",
       "                         'min_samples_split': [2, 5, 10],\n",
       "                         'n_estimators': [50, 100, 150]},\n",
       "             verbose=2)"
      ]
     },
     "execution_count": 14,
     "metadata": {},
     "output_type": "execute_result"
    }
   ],
   "source": [
    "from sklearn.ensemble import RandomForestClassifier\n",
    "from sklearn.model_selection import GridSearchCV\n",
    "\n",
    "# Define the model\n",
    "clf = RandomForestClassifier()\n",
    "\n",
    "# Define hyperparameters to tune\n",
    "param_grid = {\n",
    "    'n_estimators': [50, 100, 150],\n",
    "    'max_depth': [None, 10, 20, 30],\n",
    "    'min_samples_split': [2, 5, 10],\n",
    "    'min_samples_leaf': [1, 2, 4],\n",
    "    'bootstrap': [True, False]\n",
    "}\n",
    "\n",
    "# Setup GridSearch with Cross-Validation then fit\n",
    "grid_search = GridSearchCV(estimator=clf, param_grid=param_grid, cv=5, n_jobs=-1, verbose=2)\n",
    "grid_search.fit(X_train, y_train)"
   ]
  },
  {
   "cell_type": "code",
   "execution_count": 63,
   "id": "810d580e",
   "metadata": {
    "scrolled": true
   },
   "outputs": [
    {
     "name": "stdout",
     "output_type": "stream",
     "text": [
      "Best hyperparameters: {'bootstrap': False, 'max_depth': None, 'min_samples_leaf': 1, 'min_samples_split': 2, 'n_estimators': 150}\n",
      "False\n"
     ]
    }
   ],
   "source": [
    "\n",
    "#Get the best parameters\n",
    "best_params = grid_search.best_params_\n",
    "print(\"Best hyperparameters:\", best_params)\n",
    "\n",
    "\n",
    "print(best_params['bootstrap'])"
   ]
  },
  {
   "cell_type": "code",
   "execution_count": 64,
   "id": "eb47c9cc",
   "metadata": {},
   "outputs": [],
   "source": [
    "# Creating a new instance with the best hyperparameters\n",
    "best_rf_clf = RandomForestClassifier(**best_params)\n"
   ]
  },
  {
   "cell_type": "code",
   "execution_count": 65,
   "id": "719a80b3",
   "metadata": {},
   "outputs": [],
   "source": [
    "model_for_eval = best_rf_clf.fit(X_train, y_train)"
   ]
  },
  {
   "cell_type": "code",
   "execution_count": 66,
   "id": "c4a9d62d",
   "metadata": {},
   "outputs": [
    {
     "name": "stdout",
     "output_type": "stream",
     "text": [
      "Accuracy: 0.9948024948024948 \n",
      "\n",
      "              precision    recall  f1-score   support\n",
      "\n",
      "       False       1.00      1.00      1.00      1858\n",
      "        True       0.94      0.91      0.92        66\n",
      "\n",
      "    accuracy                           0.99      1924\n",
      "   macro avg       0.97      0.95      0.96      1924\n",
      "weighted avg       0.99      0.99      0.99      1924\n",
      " \n",
      "\n",
      "Confusion Matrix:\n",
      "[[1854    4]\n",
      " [   6   60]]\n"
     ]
    }
   ],
   "source": [
    "# Evaluate on test data\n",
    "# best_clf = grid_search.best_estimator_\n",
    "# y_pred = best_clf.predict(X_test)\n",
    "y_pred = model_for_eval.predict(X_test)\n",
    "\n",
    "\n",
    "from sklearn.metrics import classification_report, accuracy_score, confusion_matrix\n",
    "print(\"Accuracy:\", accuracy_score(y_test, y_pred), \"\\n\")\n",
    "print(classification_report(y_test, y_pred), \"\\n\")\n",
    "print(\"Confusion Matrix:\")\n",
    "print(confusion_matrix(y_test, y_pred))\n"
   ]
  },
  {
   "cell_type": "code",
   "execution_count": 53,
   "id": "22058b2e",
   "metadata": {},
   "outputs": [],
   "source": [
    "#After evaluation, fit to all the data\n",
    "final_model =best_rf_clf.fit(X, y)"
   ]
  },
  {
   "cell_type": "code",
   "execution_count": 54,
   "id": "68295d87",
   "metadata": {},
   "outputs": [
    {
     "data": {
      "text/plain": [
       "['../../joblib/education_rfm.joblib']"
      ]
     },
     "execution_count": 54,
     "metadata": {},
     "output_type": "execute_result"
    }
   ],
   "source": [
    "from joblib import dump\n",
    "\n",
    "# Save the trained model\n",
    "dump(final_model, '../../joblib/education_rfm.joblib')\n",
    "\n",
    "\n"
   ]
  },
  {
   "cell_type": "code",
   "execution_count": null,
   "id": "da1044db",
   "metadata": {},
   "outputs": [],
   "source": []
  }
 ],
 "metadata": {
  "kernelspec": {
   "display_name": "Python 3 (ipykernel)",
   "language": "python",
   "name": "python3"
  },
  "language_info": {
   "codemirror_mode": {
    "name": "ipython",
    "version": 3
   },
   "file_extension": ".py",
   "mimetype": "text/x-python",
   "name": "python",
   "nbconvert_exporter": "python",
   "pygments_lexer": "ipython3",
   "version": "3.9.6"
  }
 },
 "nbformat": 4,
 "nbformat_minor": 5
}
